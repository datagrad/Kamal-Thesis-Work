{
  "nbformat": 4,
  "nbformat_minor": 0,
  "metadata": {
    "colab": {
      "provenance": [],
      "authorship_tag": "ABX9TyPIV1PJtQfHwf11BHt9y3yN",
      "include_colab_link": true
    },
    "kernelspec": {
      "name": "python3",
      "display_name": "Python 3"
    },
    "language_info": {
      "name": "python"
    }
  },
  "cells": [
    {
      "cell_type": "markdown",
      "metadata": {
        "id": "view-in-github",
        "colab_type": "text"
      },
      "source": [
        "<a href=\"https://colab.research.google.com/github/datagrad/Kamal-Thesis-Work/blob/main/SARIMAX_with_XGBoost_PM10.ipynb\" target=\"_parent\"><img src=\"https://colab.research.google.com/assets/colab-badge.svg\" alt=\"Open In Colab\"/></a>"
      ]
    },
    {
      "cell_type": "code",
      "source": [
        "# pip install statsmodels xgboost\n"
      ],
      "metadata": {
        "id": "_3iziXazBk_t"
      },
      "execution_count": 1,
      "outputs": []
    },
    {
      "cell_type": "code",
      "source": [
        "import pandas as pd\n",
        "import numpy as np\n",
        "from statsmodels.tsa.statespace.sarimax import SARIMAX\n",
        "from xgboost import XGBRegressor\n",
        "from sklearn.metrics import mean_absolute_percentage_error\n"
      ],
      "metadata": {
        "id": "5MNMRJI4Gv7D"
      },
      "execution_count": 2,
      "outputs": []
    },
    {
      "cell_type": "code",
      "source": [
        "# Load the dataset from the provided URL\n",
        "url = 'https://raw.githubusercontent.com/datagrad/MS_Reference_MS-DS-LJMU-C13/main/city_day.csv'\n",
        "df = pd.read_csv(url)\n"
      ],
      "metadata": {
        "id": "r9BeOs0AHAiu"
      },
      "execution_count": 3,
      "outputs": []
    },
    {
      "cell_type": "code",
      "source": [
        "# Filter data for specific cities\n",
        "cities_to_keep = ['Delhi', 'Bengaluru', 'Hyderabad']\n",
        "df = df[df['City'].isin(cities_to_keep)]\n"
      ],
      "metadata": {
        "id": "r_tzFcqtHAmf"
      },
      "execution_count": 4,
      "outputs": []
    },
    {
      "cell_type": "code",
      "source": [
        "# Retain only the desired columns: 'City', 'Date', and 'PM10'\n",
        "df = df[['City', 'Date', 'PM10']]\n"
      ],
      "metadata": {
        "id": "1sfp8UxGHUeF"
      },
      "execution_count": 5,
      "outputs": []
    },
    {
      "cell_type": "code",
      "source": [
        "# Convert 'Date' column to datetime data type\n",
        "df['Date'] = pd.to_datetime(df['Date'])\n"
      ],
      "metadata": {
        "id": "NRWpqRNNHApm"
      },
      "execution_count": 6,
      "outputs": []
    },
    {
      "cell_type": "code",
      "source": [
        "# Replace NaN values in the 'PM10' column with next day's value (forward fill) for each city\n",
        "df['PM10'] = df.groupby('City')['PM10'].fillna(method='ffill')\n"
      ],
      "metadata": {
        "id": "y9119S4LHYsA"
      },
      "execution_count": 7,
      "outputs": []
    },
    {
      "cell_type": "code",
      "source": [
        "# Sort the DataFrame by the 'Date' column in ascending order\n",
        "df.sort_values(by='Date', inplace=True)\n",
        "\n",
        "# Perform a time-based train-test split\n",
        "split_date = '2020-01-01'  # Choose a date to split the data\n",
        "train_df = df[df['Date'] < split_date]\n",
        "test_df = df[df['Date'] >= split_date]\n"
      ],
      "metadata": {
        "id": "6A2rBA8iHa4z"
      },
      "execution_count": 8,
      "outputs": []
    },
    {
      "cell_type": "code",
      "source": [
        "# Define a range of values for seasonal components (P, D, Q, S)\n",
        "P_range = range(0, 6)\n",
        "D_range = range(0, 3)\n",
        "Q_range = range(0, 3)\n",
        "S_range = [7]\n",
        "\n",
        "# Loop through all combinations of seasonal components and find the best model\n",
        "# (Code not shown for brevity)\n"
      ],
      "metadata": {
        "id": "RS4Ol9OKHAsR"
      },
      "execution_count": 9,
      "outputs": []
    },
    {
      "cell_type": "code",
      "source": [],
      "metadata": {
        "id": "599rzG0kJIfZ"
      },
      "execution_count": 9,
      "outputs": []
    },
    {
      "cell_type": "code",
      "source": [
        "# Check for missing values in the training and test datasets\n",
        "print(\"Training dataset - Missing values in 'PM10':\", train_df['PM10'].isnull().sum())\n",
        "print(\"Test dataset - Missing values in 'PM10':\", test_df['PM10'].isnull().sum())\n"
      ],
      "metadata": {
        "colab": {
          "base_uri": "https://localhost:8080/"
        },
        "id": "gZQNEx9QJIb_",
        "outputId": "0e089125-1c44-4a69-e3de-e99a635c4966"
      },
      "execution_count": 10,
      "outputs": [
        {
          "output_type": "stream",
          "name": "stdout",
          "text": [
            "Training dataset - Missing values in 'PM10': 551\n",
            "Test dataset - Missing values in 'PM10': 0\n"
          ]
        }
      ]
    },
    {
      "cell_type": "code",
      "source": [
        "# Forward Fill missing values of the column\n",
        "train_df['PM10'].fillna(method='bfill', inplace=True)\n",
        "train_df['PM10'].fillna(method='ffill', inplace=True)\n",
        "\n",
        "\n",
        "\n",
        "# train_df['PM10'].fillna(train_df['PM10'].mean(), inplace=True)\n",
        "# test_df['PM10'].fillna(test_df['PM10'].mean(), inplace=True)\n"
      ],
      "metadata": {
        "colab": {
          "base_uri": "https://localhost:8080/"
        },
        "id": "2-dR6Sc-JPVp",
        "outputId": "dabafa34-8c17-43fc-86e2-30f082aefb52"
      },
      "execution_count": 11,
      "outputs": [
        {
          "output_type": "stream",
          "name": "stderr",
          "text": [
            "<ipython-input-11-ce880dd2d749>:2: SettingWithCopyWarning: \n",
            "A value is trying to be set on a copy of a slice from a DataFrame\n",
            "\n",
            "See the caveats in the documentation: https://pandas.pydata.org/pandas-docs/stable/user_guide/indexing.html#returning-a-view-versus-a-copy\n",
            "  train_df['PM10'].fillna(method='bfill', inplace=True)\n",
            "<ipython-input-11-ce880dd2d749>:3: SettingWithCopyWarning: \n",
            "A value is trying to be set on a copy of a slice from a DataFrame\n",
            "\n",
            "See the caveats in the documentation: https://pandas.pydata.org/pandas-docs/stable/user_guide/indexing.html#returning-a-view-versus-a-copy\n",
            "  train_df['PM10'].fillna(method='ffill', inplace=True)\n"
          ]
        }
      ]
    },
    {
      "cell_type": "code",
      "source": [
        "# Check for missing values in the training and test datasets\n",
        "print(\"Training dataset - Missing values in 'PM10':\", train_df['PM10'].isnull().sum())\n",
        "print(\"Test dataset - Missing values in 'PM10':\", test_df['PM10'].isnull().sum())\n"
      ],
      "metadata": {
        "id": "KtMu5IIEaDG-",
        "outputId": "1625692d-a39d-4b04-a6c3-b356b0fc9b86",
        "colab": {
          "base_uri": "https://localhost:8080/"
        }
      },
      "execution_count": 12,
      "outputs": [
        {
          "output_type": "stream",
          "name": "stdout",
          "text": [
            "Training dataset - Missing values in 'PM10': 0\n",
            "Test dataset - Missing values in 'PM10': 0\n"
          ]
        }
      ]
    },
    {
      "cell_type": "code",
      "source": [],
      "metadata": {
        "id": "ImgpJJXPWP2F"
      },
      "execution_count": 12,
      "outputs": []
    },
    {
      "cell_type": "code",
      "source": [
        "# Check for infinity or large values in the 'PM10' column\n",
        "print(\"Training dataset - Max 'PM10' value:\", train_df['PM10'].max())\n",
        "print(\"Test dataset - Max 'PM10' value:\", test_df['PM10'].max())\n"
      ],
      "metadata": {
        "colab": {
          "base_uri": "https://localhost:8080/"
        },
        "id": "DfqUCMkAJPZX",
        "outputId": "cff70df2-73f7-4a25-f8fb-65f225451b1b"
      },
      "execution_count": 13,
      "outputs": [
        {
          "output_type": "stream",
          "name": "stdout",
          "text": [
            "Training dataset - Max 'PM10' value: 796.88\n",
            "Test dataset - Max 'PM10' value: 483.87\n"
          ]
        }
      ]
    },
    {
      "cell_type": "code",
      "source": [
        "# Check the data type of the 'PM10' column\n",
        "print(\"Data type of 'PM10':\", train_df['PM10'].dtype)\n"
      ],
      "metadata": {
        "colab": {
          "base_uri": "https://localhost:8080/"
        },
        "id": "_s4FV2qDJPcw",
        "outputId": "1233675f-539d-49d1-880c-c39b8a6e85b3"
      },
      "execution_count": 14,
      "outputs": [
        {
          "output_type": "stream",
          "name": "stdout",
          "text": [
            "Data type of 'PM10': float64\n"
          ]
        }
      ]
    },
    {
      "cell_type": "code",
      "source": [
        "import matplotlib.pyplot as plt\n",
        "\n",
        "# Visualize the distribution of 'PM10' values\n",
        "plt.hist(train_df['PM10'], bins=20)\n",
        "plt.xlabel('PM10')\n",
        "plt.ylabel('Frequency')\n",
        "plt.title('Distribution of PM10 Values')\n",
        "plt.show()\n"
      ],
      "metadata": {
        "colab": {
          "base_uri": "https://localhost:8080/",
          "height": 472
        },
        "id": "0FqpPlxeJIY-",
        "outputId": "3fa93671-62d6-4101-fed8-62e66fef3754"
      },
      "execution_count": 15,
      "outputs": [
        {
          "output_type": "display_data",
          "data": {
            "text/plain": [
              "<Figure size 640x480 with 1 Axes>"
            ],
            "image/png": "[encoded data removed]"
          },
          "metadata": {}
        }
      ]
    },
    {
      "cell_type": "code",
      "source": [
        "# Create the SARIMA model and fit it to the training data\n",
        "p, d, q = 1, 1, 1  # Order of non-seasonal components\n",
        "P, D, Q, S = 5, 1, 1, 7  # Order of seasonal components (weekly seasonality assumed)\n",
        "sarima_model = SARIMAX(train_df['PM10'], order=(p, d, q), seasonal_order=(P, D, Q, S))\n",
        "sarima_results = sarima_model.fit()\n",
        "\n",
        "# Make in-sample predictions on the training data\n",
        "train_predictions = sarima_results.get_prediction(start=train_df.index[0], end=train_df.index[-1])\n",
        "train_pred_mean = train_predictions.predicted_mean\n",
        "\n",
        "# Make out-of-sample predictions on the test data using SARIMA\n",
        "sarima_test_predictions = sarima_results.get_forecast(steps=len(test_df))\n",
        "sarima_y_pred = sarima_test_predictions.predicted_mean\n",
        "\n",
        "# Create and train an XGBoost model\n",
        "xgb_model = XGBRegressor(n_estimators=100, objective='reg:squarederror')\n",
        "xgb_model.fit(train_df[['PM10']], train_df['PM10'])\n",
        "\n",
        "# Make predictions on the test data using XGBoost\n",
        "xgb_y_pred = xgb_model.predict(test_df[['PM10']])\n",
        "\n",
        "# Evaluate the SARIMA model's performance\n",
        "sarima_mape = mean_absolute_percentage_error(test_df['PM10'], sarima_y_pred)\n",
        "print(\"SARIMA Mean Absolute Percentage Error (MAPE):\", sarima_mape)\n",
        "\n",
        "# Evaluate the XGBoost model's performance\n",
        "xgb_mape = mean_absolute_percentage_error(test_df['PM10'], xgb_y_pred)\n",
        "print(\"XGBoost Mean Absolute Percentage Error (MAPE):\", xgb_mape)\n"
      ],
      "metadata": {
        "colab": {
          "base_uri": "https://localhost:8080/"
        },
        "id": "YwPt4ZV6HAu9",
        "outputId": "e4b381a7-f502-47df-d8ee-65fd3f2f89ab"
      },
      "execution_count": 16,
      "outputs": [
        {
          "output_type": "stream",
          "name": "stderr",
          "text": [
            "/usr/local/lib/python3.10/dist-packages/statsmodels/tsa/base/tsa_model.py:473: ValueWarning: An unsupported index was provided and will be ignored when e.g. forecasting.\n",
            "  self._init_dates(dates, freq)\n",
            "/usr/local/lib/python3.10/dist-packages/statsmodels/tsa/base/tsa_model.py:473: ValueWarning: An unsupported index was provided and will be ignored when e.g. forecasting.\n",
            "  self._init_dates(dates, freq)\n",
            "/usr/local/lib/python3.10/dist-packages/statsmodels/tsa/base/tsa_model.py:836: ValueWarning: No supported index is available. Prediction results will be given with an integer index beginning at `start`.\n",
            "  return get_prediction_index(\n",
            "/usr/local/lib/python3.10/dist-packages/statsmodels/tsa/base/tsa_model.py:836: FutureWarning: No supported index is available. In the next version, calling this method in a model without a supported index will result in an exception.\n",
            "  return get_prediction_index(\n"
          ]
        },
        {
          "output_type": "stream",
          "name": "stdout",
          "text": [
            "SARIMA Mean Absolute Percentage Error (MAPE): 0.7029248110824647\n",
            "XGBoost Mean Absolute Percentage Error (MAPE): 0.004069327593046358\n"
          ]
        },
        {
          "output_type": "stream",
          "name": "stderr",
          "text": [
            "/usr/local/lib/python3.10/dist-packages/statsmodels/tsa/base/tsa_model.py:836: ValueWarning: No supported index is available. Prediction results will be given with an integer index beginning at `start`.\n",
            "  return get_prediction_index(\n"
          ]
        }
      ]
    },
    {
      "cell_type": "code",
      "source": [
        "# Evaluate the model's performance\n",
        "mape = mean_absolute_percentage_error(test_df['PM10'], xgb_y_pred)\n",
        "print(\"Mean Absolute Percentage Error (MAPE):\", mape)\n",
        "\n",
        "\n",
        "# Optionally, you can visualize the actual vs. predicted values (Code not shown)\n"
      ],
      "metadata": {
        "colab": {
          "base_uri": "https://localhost:8080/"
        },
        "id": "XrEyDPSMHA0e",
        "outputId": "e4fbd010-92ec-4c1f-f0f0-1527c64ef8e4"
      },
      "execution_count": 17,
      "outputs": [
        {
          "output_type": "stream",
          "name": "stdout",
          "text": [
            "Mean Absolute Percentage Error (MAPE): 0.004069327593046358\n"
          ]
        }
      ]
    },
    {
      "cell_type": "code",
      "source": [
        "import matplotlib.pyplot as plt\n",
        "\n",
        "# Assuming you have actual and predicted values\n",
        "actual_values = test_df['PM10']  # Replace 'test_df' with your actual test dataset\n",
        "predicted_values = xgb_y_pred  # Replace with your predicted values obtained from the model\n",
        "\n",
        "# Create a time index for plotting\n",
        "time_index = test_df['Date']\n",
        "\n",
        "# Plot actual vs. predicted values\n",
        "plt.figure(figsize=(12, 6))\n",
        "plt.plot(time_index, actual_values, label='Actual', color='blue')\n",
        "plt.plot(time_index, predicted_values, label='Predicted', color='red')\n",
        "plt.xlabel('Date')\n",
        "plt.ylabel('PM10')\n",
        "plt.title('Actual vs. Predicted PM10 Values')\n",
        "plt.legend()\n",
        "plt.grid(True)\n",
        "plt.show()\n"
      ],
      "metadata": {
        "colab": {
          "base_uri": "https://localhost:8080/",
          "height": 564
        },
        "id": "b4n1zQdbK1tZ",
        "outputId": "a8292e72-ec37-4676-de12-3d19ab21fe42"
      },
      "execution_count": 18,
      "outputs": [
        {
          "output_type": "display_data",
          "data": {
            "text/plain": [
              "<Figure size 1200x600 with 1 Axes>"
            ],
            "image/png": "[encoded data removed]"
          },
          "metadata": {}
        }
      ]
    },
    {
      "cell_type": "code",
      "source": [
        "# Replace PM10 with PM10 for PM10 Prediction"
      ],
      "metadata": {
        "id": "j6szJ2xQK_DU"
      },
      "execution_count": 19,
      "outputs": []
    },
    {
      "cell_type": "code",
      "source": [
        "\n",
        "\n",
        "\n",
        "\n"
      ],
      "metadata": {
        "id": "6U_qAXAChs2s"
      },
      "execution_count": 19,
      "outputs": []
    },
    {
      "cell_type": "code",
      "source": [],
      "metadata": {
        "id": "R1wmx4UBbL_d"
      },
      "execution_count": 19,
      "outputs": []
    },
    {
      "cell_type": "code",
      "source": [],
      "metadata": {
        "id": "_5wQelNKbMCz"
      },
      "execution_count": 19,
      "outputs": []
    },
    {
      "cell_type": "code",
      "source": [],
      "metadata": {
        "id": "cCAB5on4bMFP"
      },
      "execution_count": 19,
      "outputs": []
    },
    {
      "cell_type": "code",
      "source": [],
      "metadata": {
        "id": "8x6raZoqbMHX"
      },
      "execution_count": 19,
      "outputs": []
    },
    {
      "cell_type": "code",
      "source": [],
      "metadata": {
        "id": "GM1yJtqvbMKC"
      },
      "execution_count": 19,
      "outputs": []
    },
    {
      "cell_type": "code",
      "source": [],
      "metadata": {
        "id": "9-BkVjZ2bMMg"
      },
      "execution_count": 19,
      "outputs": []
    },
    {
      "cell_type": "code",
      "source": [
        "Approach 2"
      ],
      "metadata": {
        "id": "5Cg3PKWjbMPH"
      },
      "execution_count": 19,
      "outputs": []
    },
    {
      "cell_type": "code",
      "source": [
        "import pandas as pd\n",
        "import numpy as np\n",
        "from statsmodels.tsa.statespace.sarimax import SARIMAX\n",
        "from xgboost import XGBRegressor\n",
        "from sklearn.metrics import mean_absolute_percentage_error\n"
      ],
      "metadata": {
        "id": "6bpcrNjDbhtI"
      },
      "execution_count": 21,
      "outputs": []
    },
    {
      "cell_type": "code",
      "source": [
        "# Load the dataset from the provided URL\n",
        "url = 'https://raw.githubusercontent.com/datagrad/MS_Reference_MS-DS-LJMU-C13/main/city_day.csv'\n",
        "df = pd.read_csv(url)\n"
      ],
      "metadata": {
        "id": "Bc2Ucr11bhtJ"
      },
      "execution_count": 22,
      "outputs": []
    },
    {
      "cell_type": "code",
      "source": [
        "# Filter data for specific cities\n",
        "cities_to_keep = ['Delhi', 'Bengaluru', 'Hyderabad']\n",
        "df = df[df['City'].isin(cities_to_keep)]\n"
      ],
      "metadata": {
        "id": "GcI6T3FHbhtJ"
      },
      "execution_count": 23,
      "outputs": []
    },
    {
      "cell_type": "code",
      "source": [
        "# Retain only the desired columns: 'City', 'Date', and 'PM10'\n",
        "df = df[['City', 'Date', 'PM10']]\n"
      ],
      "metadata": {
        "id": "rkO8iovUbhtK"
      },
      "execution_count": 24,
      "outputs": []
    },
    {
      "cell_type": "code",
      "source": [
        "# Convert 'Date' column to datetime data type\n",
        "df['Date'] = pd.to_datetime(df['Date'])\n"
      ],
      "metadata": {
        "id": "SWSMslEubhtL"
      },
      "execution_count": 25,
      "outputs": []
    },
    {
      "cell_type": "code",
      "source": [
        "# Replace NaN values in the 'PM10' column with next day's value (forward fill) for each city\n",
        "df['PM10'] = df.groupby('City')['PM10'].fillna(method='ffill')\n"
      ],
      "metadata": {
        "id": "rbSgA4g9bhtL"
      },
      "execution_count": 26,
      "outputs": []
    },
    {
      "cell_type": "code",
      "source": [
        "# Sort the DataFrame by the 'Date' column in ascending order\n",
        "df.sort_values(by='Date', inplace=True)\n",
        "\n",
        "# Perform a time-based train-test split\n",
        "split_date = '2020-01-01'  # Choose a date to split the data\n",
        "train_df = df[df['Date'] < split_date]\n",
        "test_df = df[df['Date'] >= split_date]\n"
      ],
      "metadata": {
        "id": "bS3JPhPLbhtM"
      },
      "execution_count": 27,
      "outputs": []
    },
    {
      "cell_type": "code",
      "source": [
        "# Lagged Variables\n",
        "for lag in range(1, 4):\n",
        "    df[f'PM10_lag_{lag}'] = df['PM10'].shift(lag)\n",
        "\n",
        "# Additional features like day of week, month, etc.\n",
        "df['Day_of_Week'] = df['Date'].dt.dayofweek\n",
        "df['Month'] = df['Date'].dt.month\n",
        "\n",
        "# Drop NaN values introduced by lags\n",
        "df = df.dropna()\n"
      ],
      "metadata": {
        "id": "lZTSwUnpbuwn",
        "outputId": "3e511b61-5cc2-4741-dfba-ba37fab58996",
        "colab": {
          "base_uri": "https://localhost:8080/"
        }
      },
      "execution_count": 31,
      "outputs": [
        {
          "output_type": "stream",
          "name": "stderr",
          "text": [
            "<ipython-input-31-59a7eebce571>:3: SettingWithCopyWarning: \n",
            "A value is trying to be set on a copy of a slice from a DataFrame.\n",
            "Try using .loc[row_indexer,col_indexer] = value instead\n",
            "\n",
            "See the caveats in the documentation: https://pandas.pydata.org/pandas-docs/stable/user_guide/indexing.html#returning-a-view-versus-a-copy\n",
            "  df[f'PM10_lag_{lag}'] = df['PM10'].shift(lag)\n",
            "<ipython-input-31-59a7eebce571>:3: SettingWithCopyWarning: \n",
            "A value is trying to be set on a copy of a slice from a DataFrame.\n",
            "Try using .loc[row_indexer,col_indexer] = value instead\n",
            "\n",
            "See the caveats in the documentation: https://pandas.pydata.org/pandas-docs/stable/user_guide/indexing.html#returning-a-view-versus-a-copy\n",
            "  df[f'PM10_lag_{lag}'] = df['PM10'].shift(lag)\n",
            "<ipython-input-31-59a7eebce571>:3: SettingWithCopyWarning: \n",
            "A value is trying to be set on a copy of a slice from a DataFrame.\n",
            "Try using .loc[row_indexer,col_indexer] = value instead\n",
            "\n",
            "See the caveats in the documentation: https://pandas.pydata.org/pandas-docs/stable/user_guide/indexing.html#returning-a-view-versus-a-copy\n",
            "  df[f'PM10_lag_{lag}'] = df['PM10'].shift(lag)\n",
            "<ipython-input-31-59a7eebce571>:6: SettingWithCopyWarning: \n",
            "A value is trying to be set on a copy of a slice from a DataFrame.\n",
            "Try using .loc[row_indexer,col_indexer] = value instead\n",
            "\n",
            "See the caveats in the documentation: https://pandas.pydata.org/pandas-docs/stable/user_guide/indexing.html#returning-a-view-versus-a-copy\n",
            "  df['Day_of_Week'] = df['Date'].dt.dayofweek\n",
            "<ipython-input-31-59a7eebce571>:7: SettingWithCopyWarning: \n",
            "A value is trying to be set on a copy of a slice from a DataFrame.\n",
            "Try using .loc[row_indexer,col_indexer] = value instead\n",
            "\n",
            "See the caveats in the documentation: https://pandas.pydata.org/pandas-docs/stable/user_guide/indexing.html#returning-a-view-versus-a-copy\n",
            "  df['Month'] = df['Date'].dt.month\n"
          ]
        }
      ]
    },
    {
      "cell_type": "code",
      "source": [
        "# Time-based Train-Test Split\n",
        "split_date = '2020-01-01'\n",
        "train = df[df['Date'] < split_date]\n",
        "test = df[df['Date'] >= split_date]\n"
      ],
      "metadata": {
        "id": "Kfl0sGwBb4I2"
      },
      "execution_count": 32,
      "outputs": []
    },
    {
      "cell_type": "code",
      "source": [
        "from statsmodels.tsa.statespace.sarimax import SARIMAX\n",
        "\n",
        "# Define SARIMAX parameters\n",
        "p, d, q = 1, 1, 1\n",
        "P, D, Q, S = 1, 1, 1, 12\n",
        "\n",
        "# Fit SARIMAX model\n",
        "sarimax_model = SARIMAX(df['PM10'], order=(p, d, q), seasonal_order=(P, D, Q, S))\n",
        "sarimax_results = sarimax_model.fit(disp=False)\n",
        "\n",
        "# Generate SARIMAX Predictions\n",
        "df['SARIMAX_Predictions'] = sarimax_results.predict()\n"
      ],
      "metadata": {
        "id": "K0wMj_9Mb4ba",
        "outputId": "00c61d80-ef22-4565-cc1e-544c0e8f061f",
        "colab": {
          "base_uri": "https://localhost:8080/"
        }
      },
      "execution_count": 38,
      "outputs": [
        {
          "output_type": "stream",
          "name": "stderr",
          "text": [
            "/usr/local/lib/python3.10/dist-packages/statsmodels/tsa/base/tsa_model.py:473: ValueWarning: An unsupported index was provided and will be ignored when e.g. forecasting.\n",
            "  self._init_dates(dates, freq)\n",
            "/usr/local/lib/python3.10/dist-packages/statsmodels/tsa/base/tsa_model.py:473: ValueWarning: An unsupported index was provided and will be ignored when e.g. forecasting.\n",
            "  self._init_dates(dates, freq)\n"
          ]
        }
      ]
    },
    {
      "cell_type": "code",
      "source": [
        "# You might add rolling means, additional lags, or other time-related features\n",
        "df['Rolling_Mean'] = df['PM10'].rolling(window=3).mean()\n"
      ],
      "metadata": {
        "id": "1HqhUYZtb4ed"
      },
      "execution_count": 39,
      "outputs": []
    },
    {
      "cell_type": "code",
      "source": [
        "from xgboost import XGBRegressor\n",
        "from sklearn.model_selection import train_test_split\n",
        "from sklearn.metrics import mean_squared_error\n",
        "\n",
        "# Define Features and Target\n",
        "features = ['PM10', 'PM10_lag_1', 'PM10_lag_2', 'PM10_lag_3', 'Rolling_Mean', 'SARIMAX_Predictions']\n",
        "target = 'PM10'\n",
        "\n",
        "# Train-Test Split\n",
        "X_train, X_test, y_train, y_test = train_test_split(df[features], df[target], test_size=0.2, shuffle=False)\n",
        "\n",
        "# Train XGBoost\n",
        "xgb_model = XGBRegressor(objective='reg:squarederror')\n",
        "xgb_model.fit(X_train, y_train)\n",
        "\n",
        "# Predictions\n",
        "xgb_predictions = xgb_model.predict(X_test)\n"
      ],
      "metadata": {
        "id": "8y4DS2cab4hP"
      },
      "execution_count": 41,
      "outputs": []
    },
    {
      "cell_type": "code",
      "source": [
        "from sklearn.metrics import mean_absolute_error\n",
        "\n",
        "# Evaluate XGBoost Predictions\n",
        "mae = mean_absolute_error(y_test, xgb_predictions)\n",
        "print(f\"Mean Absolute Error: {mae}\")\n"
      ],
      "metadata": {
        "id": "21GKLqcvdazi",
        "outputId": "4f266004-70a4-427e-c564-7ae3ae7fd0f6",
        "colab": {
          "base_uri": "https://localhost:8080/"
        }
      },
      "execution_count": 42,
      "outputs": [
        {
          "output_type": "stream",
          "name": "stdout",
          "text": [
            "Mean Absolute Error: 0.6118825092371718\n"
          ]
        }
      ]
    },
    {
      "cell_type": "code",
      "source": [],
      "metadata": {
        "id": "XV2ctPinda3f"
      },
      "execution_count": 41,
      "outputs": []
    },
    {
      "cell_type": "code",
      "source": [
        "from sklearn.model_selection import TimeSeriesSplit\n",
        "from sklearn.metrics import mean_absolute_error\n",
        "import numpy as np\n",
        "\n",
        "# Define TimeSeriesSplit\n",
        "tscv = TimeSeriesSplit(n_splits=5)  # Adjust n_splits as per data size\n",
        "\n",
        "# Initialize variable to store MAE\n",
        "mae_scores = []\n",
        "\n",
        "# Perform cross-validation\n",
        "for train_index, test_index in tscv.split(df):\n",
        "    cv_train, cv_test = df.iloc[train_index], df.iloc[test_index]\n",
        "\n",
        "    # Fit SARIMAX model on cv_train and forecast on cv_test\n",
        "    # Compute MAE and append to mae_scores\n",
        "    # ...\n",
        "\n",
        "# Compute average MAE across all splits\n",
        "avg_mae = np.mean(mae_scores)\n"
      ],
      "metadata": {
        "id": "B9hFhpZ9da6T",
        "outputId": "5d16775b-5b94-4aa0-efb2-56140e0c3a32",
        "colab": {
          "base_uri": "https://localhost:8080/"
        }
      },
      "execution_count": 43,
      "outputs": [
        {
          "output_type": "stream",
          "name": "stderr",
          "text": [
            "/usr/local/lib/python3.10/dist-packages/numpy/core/fromnumeric.py:3432: RuntimeWarning: Mean of empty slice.\n",
            "  return _methods._mean(a, axis=axis, dtype=dtype,\n",
            "/usr/local/lib/python3.10/dist-packages/numpy/core/_methods.py:190: RuntimeWarning: invalid value encountered in double_scalars\n",
            "  ret = ret.dtype.type(ret / rcount)\n"
          ]
        }
      ]
    },
    {
      "cell_type": "code",
      "source": [],
      "metadata": {
        "id": "Pv1Uou8ld32B"
      },
      "execution_count": null,
      "outputs": []
    },
    {
      "cell_type": "code",
      "source": [
        "import matplotlib.pyplot as plt\n",
        "import seaborn as sns\n",
        "from scipy.stats import norm\n",
        "\n",
        "# Compute residuals\n",
        "residuals = df['PM10'] - sarimax_predictions  # Replace with actual SARIMAX predictions\n",
        "\n",
        "# Time plot of residuals\n",
        "plt.figure(figsize=(10,6))\n",
        "plt.plot(residuals)\n",
        "plt.title('Time Plot of Residuals')\n",
        "plt.show()\n",
        "\n",
        "# Histogram of residuals\n",
        "plt.figure(figsize=(10,6))\n",
        "sns.histplot(residuals, kde=False, fit=norm)\n",
        "plt.title('Histogram of Residuals')\n",
        "plt.show()\n"
      ],
      "metadata": {
        "collapsed": true,
        "id": "V_xVbp0rbhtN",
        "outputId": "72479b85-d2d3-4a5b-eebc-6ff6db57939f",
        "colab": {
          "base_uri": "https://localhost:8080/",
          "height": 253
        }
      },
      "execution_count": 44,
      "outputs": [
        {
          "output_type": "error",
          "ename": "NameError",
          "evalue": "ignored",
          "traceback": [
            "\u001b[0;31m---------------------------------------------------------------------------\u001b[0m",
            "\u001b[0;31mNameError\u001b[0m                                 Traceback (most recent call last)",
            "\u001b[0;32m<ipython-input-44-41434a7fee07>\u001b[0m in \u001b[0;36m<cell line: 6>\u001b[0;34m()\u001b[0m\n\u001b[1;32m      4\u001b[0m \u001b[0;34m\u001b[0m\u001b[0m\n\u001b[1;32m      5\u001b[0m \u001b[0;31m# Compute residuals\u001b[0m\u001b[0;34m\u001b[0m\u001b[0;34m\u001b[0m\u001b[0m\n\u001b[0;32m----> 6\u001b[0;31m \u001b[0mresiduals\u001b[0m \u001b[0;34m=\u001b[0m \u001b[0mdf\u001b[0m\u001b[0;34m[\u001b[0m\u001b[0;34m'PM10'\u001b[0m\u001b[0;34m]\u001b[0m \u001b[0;34m-\u001b[0m \u001b[0msarimax_predictions\u001b[0m  \u001b[0;31m# Replace with actual SARIMAX predictions\u001b[0m\u001b[0;34m\u001b[0m\u001b[0;34m\u001b[0m\u001b[0m\n\u001b[0m\u001b[1;32m      7\u001b[0m \u001b[0;34m\u001b[0m\u001b[0m\n\u001b[1;32m      8\u001b[0m \u001b[0;31m# Time plot of residuals\u001b[0m\u001b[0;34m\u001b[0m\u001b[0;34m\u001b[0m\u001b[0m\n",
            "\u001b[0;31mNameError\u001b[0m: name 'sarimax_predictions' is not defined"
          ]
        }
      ]
    },
    {
      "cell_type": "code",
      "source": [],
      "metadata": {
        "id": "URD1ZXi3bO6l"
      },
      "execution_count": null,
      "outputs": []
    }
  ]
}